{
 "cells": [
  {
   "cell_type": "code",
   "execution_count": 1,
   "metadata": {},
   "outputs": [
    {
     "name": "stdout",
     "output_type": "stream",
     "text": [
      "['images', 'labels']\n"
     ]
    }
   ],
   "source": [
    "import numpy as np\n",
    "from sklearn.model_selection import train_test_split\n",
    "from sklearn.svm import SVC\n",
    "\n",
    "\n",
    "# Import dataset from npz file\n",
    "with np.load('/Users/jvelasquez/Virginia_Tech/Spring_2023/ECE_4806/pedestal_svm/pedestal_color_dataset_v2.npz') as data:\n",
    "    print(data.files)\n",
    "    images = data['images']\n",
    "    labels = data['labels']"
   ]
  },
  {
   "cell_type": "code",
   "execution_count": 2,
   "metadata": {},
   "outputs": [
    {
     "name": "stdout",
     "output_type": "stream",
     "text": [
      "Smallest value in a image:  0\n",
      "Largest value in a image:  253\n",
      "Accuracy:  0.9961240310077519\n"
     ]
    }
   ],
   "source": [
    "# Split dataset into training and testing sets\n",
    "X_train, X_test, y_train, y_test = train_test_split(images, labels, test_size=0.2)\n",
    "\n",
    "# Print the smallest and largest values in a image\n",
    "print(\"Smallest value in a image: \", np.min(X_train[0]))\n",
    "print(\"Largest value in a image: \", np.max(X_train[1]))\n",
    "\n",
    "# Preprocess the images\n",
    "X_train = X_train.astype('float32') / 255\n",
    "X_test = X_test.astype('float32') / 255\n",
    "\n",
    "# Flatten the images\n",
    "X_train = X_train.reshape(X_train.shape[0], -1)\n",
    "X_test = X_test.reshape(X_test.shape[0], -1)\n",
    "\n",
    "# Create the SVM classifier\n",
    "clf = SVC(kernel='rbf', C=10, gamma='scale', class_weight=None)\n",
    "clf.fit(X_train, y_train)\n",
    "\n",
    "# Evaluate the classifier\n",
    "print(\"Accuracy: \", clf.score(X_test, y_test))\n"
   ]
  },
  {
   "cell_type": "code",
   "execution_count": 20,
   "metadata": {},
   "outputs": [
    {
     "name": "stdout",
     "output_type": "stream",
     "text": [
      "Size of the classifier object:  32\n"
     ]
    }
   ],
   "source": [
    "# Print the size, in bytes, of the clf object\n",
    "print(\"Size of the classifier object: \", clf.__sizeof__())"
   ]
  },
  {
   "cell_type": "code",
   "execution_count": 3,
   "metadata": {},
   "outputs": [
    {
     "name": "stdout",
     "output_type": "stream",
     "text": [
      "Fitting 5 folds for each of 36 candidates, totalling 180 fits\n",
      "[CV 2/5] END C=0.1, class_weight=None, gamma=scale, kernel=linear;, score=(train=1.000, test=0.818) total time= 1.6min\n",
      "[CV 1/5] END C=0.1, class_weight=None, gamma=scale, kernel=linear;, score=(train=1.000, test=0.818) total time= 1.6min\n",
      "[CV 3/5] END C=0.1, class_weight=None, gamma=scale, kernel=linear;, score=(train=1.000, test=0.853) total time= 1.5min\n"
     ]
    },
    {
     "name": "stderr",
     "output_type": "stream",
     "text": [
      "/Users/jvelasquez/miniforge3/lib/python3.9/site-packages/joblib/externals/loky/process_executor.py:700: UserWarning: A worker stopped while some jobs were given to the executor. This can be caused by a too short worker timeout or by a memory leak.\n",
      "  warnings.warn(\n"
     ]
    },
    {
     "name": "stdout",
     "output_type": "stream",
     "text": [
      "[CV 4/5] END C=0.1, class_weight=None, gamma=scale, kernel=linear;, score=(train=1.000, test=0.873) total time= 1.5min\n",
      "[CV 5/5] END C=0.1, class_weight=None, gamma=scale, kernel=linear;, score=(train=1.000, test=0.838) total time= 1.5min\n",
      "[CV 1/5] END C=0.1, class_weight=None, gamma=scale, kernel=poly;, score=(train=1.000, test=0.846) total time= 1.6min\n",
      "[CV 2/5] END C=0.1, class_weight=None, gamma=scale, kernel=poly;, score=(train=1.000, test=0.860) total time= 1.5min\n",
      "[CV 3/5] END C=0.1, class_weight=None, gamma=scale, kernel=poly;, score=(train=1.000, test=0.902) total time= 1.5min\n",
      "[CV 4/5] END C=0.1, class_weight=None, gamma=scale, kernel=poly;, score=(train=1.000, test=0.894) total time= 1.6min\n",
      "[CV 5/5] END C=0.1, class_weight=None, gamma=scale, kernel=poly;, score=(train=1.000, test=0.852) total time= 1.5min\n",
      "[CV 1/5] END C=0.1, class_weight=None, gamma=scale, kernel=rbf;, score=(train=0.677, test=0.671) total time= 2.4min\n",
      "[CV 2/5] END C=0.1, class_weight=None, gamma=scale, kernel=rbf;, score=(train=0.653, test=0.685) total time= 2.4min\n",
      "[CV 3/5] END C=0.1, class_weight=None, gamma=scale, kernel=rbf;, score=(train=0.686, test=0.657) total time= 2.4min\n",
      "[CV 4/5] END C=0.1, class_weight=None, gamma=scale, kernel=rbf;, score=(train=0.683, test=0.669) total time= 2.4min\n",
      "[CV 1/5] END C=0.1, class_weight=None, gamma=auto, kernel=linear;, score=(train=1.000, test=0.818) total time= 1.4min\n",
      "[CV 2/5] END C=0.1, class_weight=None, gamma=auto, kernel=linear;, score=(train=1.000, test=0.818) total time= 1.1min\n",
      "[CV 3/5] END C=0.1, class_weight=None, gamma=auto, kernel=linear;, score=(train=1.000, test=0.853) total time= 1.1min\n",
      "[CV 4/5] END C=0.1, class_weight=None, gamma=auto, kernel=linear;, score=(train=1.000, test=0.873) total time= 1.1min\n",
      "[CV 5/5] END C=0.1, class_weight=None, gamma=scale, kernel=rbf;, score=(train=0.681, test=0.655) total time= 2.8min\n",
      "[CV 5/5] END C=0.1, class_weight=None, gamma=auto, kernel=linear;, score=(train=1.000, test=0.838) total time= 1.2min\n",
      "[CV 1/5] END C=0.1, class_weight=None, gamma=auto, kernel=poly;, score=(train=0.574, test=0.573) total time= 1.5min\n",
      "[CV 2/5] END C=0.1, class_weight=None, gamma=auto, kernel=poly;, score=(train=0.574, test=0.573) total time= 1.5min\n",
      "[CV 3/5] END C=0.1, class_weight=None, gamma=auto, kernel=poly;, score=(train=0.574, test=0.573) total time= 1.5min\n",
      "[CV 4/5] END C=0.1, class_weight=None, gamma=auto, kernel=poly;, score=(train=0.574, test=0.570) total time= 1.5min\n",
      "[CV 5/5] END C=0.1, class_weight=None, gamma=auto, kernel=poly;, score=(train=0.573, test=0.577) total time= 1.5min\n",
      "[CV 1/5] END C=0.1, class_weight=None, gamma=auto, kernel=rbf;, score=(train=0.574, test=0.573) total time= 2.6min\n",
      "[CV 2/5] END C=0.1, class_weight=None, gamma=auto, kernel=rbf;, score=(train=0.574, test=0.573) total time= 2.0min\n",
      "[CV 3/5] END C=0.1, class_weight=None, gamma=auto, kernel=rbf;, score=(train=0.574, test=0.573) total time= 2.2min\n",
      "[CV 4/5] END C=0.1, class_weight=None, gamma=auto, kernel=rbf;, score=(train=0.574, test=0.570) total time= 2.0min\n",
      "[CV 1/5] END C=0.1, class_weight=balanced, gamma=scale, kernel=linear;, score=(train=1.000, test=0.818) total time= 1.2min\n",
      "[CV 2/5] END C=0.1, class_weight=balanced, gamma=scale, kernel=linear;, score=(train=1.000, test=0.818) total time= 1.2min\n",
      "[CV 3/5] END C=0.1, class_weight=balanced, gamma=scale, kernel=linear;, score=(train=1.000, test=0.853) total time= 1.2min\n",
      "[CV 5/5] END C=0.1, class_weight=None, gamma=auto, kernel=rbf;, score=(train=0.573, test=0.577) total time= 2.3min\n",
      "[CV 4/5] END C=0.1, class_weight=balanced, gamma=scale, kernel=linear;, score=(train=1.000, test=0.873) total time= 1.3min\n",
      "[CV 5/5] END C=0.1, class_weight=balanced, gamma=scale, kernel=linear;, score=(train=1.000, test=0.838) total time= 1.6min\n",
      "[CV 1/5] END C=0.1, class_weight=balanced, gamma=scale, kernel=poly;, score=(train=1.000, test=0.846) total time= 1.6min\n",
      "[CV 2/5] END C=0.1, class_weight=balanced, gamma=scale, kernel=poly;, score=(train=1.000, test=0.860) total time= 1.6min\n",
      "[CV 3/5] END C=0.1, class_weight=balanced, gamma=scale, kernel=poly;, score=(train=1.000, test=0.902) total time= 1.6min\n",
      "[CV 4/5] END C=0.1, class_weight=balanced, gamma=scale, kernel=poly;, score=(train=1.000, test=0.894) total time= 1.6min\n",
      "[CV 5/5] END C=0.1, class_weight=balanced, gamma=scale, kernel=poly;, score=(train=1.000, test=0.852) total time= 1.5min\n",
      "[CV 1/5] END C=0.1, class_weight=balanced, gamma=scale, kernel=rbf;, score=(train=0.704, test=0.699) total time= 2.7min\n",
      "[CV 2/5] END C=0.1, class_weight=balanced, gamma=scale, kernel=rbf;, score=(train=0.696, test=0.776) total time= 2.4min\n",
      "[CV 3/5] END C=0.1, class_weight=balanced, gamma=scale, kernel=rbf;, score=(train=0.719, test=0.629) total time= 8.4min\n",
      "[CV 4/5] END C=0.1, class_weight=balanced, gamma=scale, kernel=rbf;, score=(train=0.709, test=0.634) total time= 8.2min\n",
      "[CV 1/5] END C=0.1, class_weight=balanced, gamma=auto, kernel=linear;, score=(train=1.000, test=0.818) total time= 1.3min\n",
      "[CV 2/5] END C=0.1, class_weight=balanced, gamma=auto, kernel=linear;, score=(train=1.000, test=0.818) total time= 1.1min\n",
      "[CV 3/5] END C=0.1, class_weight=balanced, gamma=auto, kernel=linear;, score=(train=1.000, test=0.853) total time= 1.1min\n",
      "[CV 4/5] END C=0.1, class_weight=balanced, gamma=auto, kernel=linear;, score=(train=1.000, test=0.873) total time= 1.1min\n",
      "[CV 5/5] END C=0.1, class_weight=balanced, gamma=scale, kernel=rbf;, score=(train=0.736, test=0.690) total time= 2.9min\n",
      "[CV 5/5] END C=0.1, class_weight=balanced, gamma=auto, kernel=linear;, score=(train=1.000, test=0.838) total time= 1.1min\n",
      "[CV 1/5] END C=0.1, class_weight=balanced, gamma=auto, kernel=poly;, score=(train=0.426, test=0.427) total time= 1.8min\n",
      "[CV 2/5] END C=0.1, class_weight=balanced, gamma=auto, kernel=poly;, score=(train=0.426, test=0.427) total time= 1.8min\n",
      "[CV 3/5] END C=0.1, class_weight=balanced, gamma=auto, kernel=poly;, score=(train=0.426, test=0.427) total time= 1.8min\n",
      "[CV 4/5] END C=0.1, class_weight=balanced, gamma=auto, kernel=poly;, score=(train=0.574, test=0.570) total time= 1.7min\n",
      "[CV 5/5] END C=0.1, class_weight=balanced, gamma=auto, kernel=poly;, score=(train=0.427, test=0.423) total time= 1.7min\n",
      "[CV 1/5] END C=0.1, class_weight=balanced, gamma=auto, kernel=rbf;, score=(train=0.426, test=0.427) total time= 3.2min\n",
      "[CV 2/5] END C=0.1, class_weight=balanced, gamma=auto, kernel=rbf;, score=(train=0.426, test=0.427) total time= 2.3min\n",
      "[CV 3/5] END C=0.1, class_weight=balanced, gamma=auto, kernel=rbf;, score=(train=0.426, test=0.427) total time= 2.5min\n",
      "[CV 4/5] END C=0.1, class_weight=balanced, gamma=auto, kernel=rbf;, score=(train=0.574, test=0.570) total time= 2.3min\n",
      "[CV 1/5] END C=1, class_weight=None, gamma=scale, kernel=linear;, score=(train=1.000, test=0.818) total time= 1.2min\n",
      "[CV 2/5] END C=1, class_weight=None, gamma=scale, kernel=linear;, score=(train=1.000, test=0.818) total time= 1.2min\n",
      "[CV 3/5] END C=1, class_weight=None, gamma=scale, kernel=linear;, score=(train=1.000, test=0.853) total time= 1.3min\n",
      "[CV 5/5] END C=0.1, class_weight=balanced, gamma=auto, kernel=rbf;, score=(train=0.427, test=0.423) total time= 2.5min\n",
      "[CV 4/5] END C=1, class_weight=None, gamma=scale, kernel=linear;, score=(train=1.000, test=0.873) total time= 1.2min\n",
      "[CV 5/5] END C=1, class_weight=None, gamma=scale, kernel=linear;, score=(train=1.000, test=0.838) total time= 1.6min\n",
      "[CV 1/5] END C=1, class_weight=None, gamma=scale, kernel=poly;, score=(train=1.000, test=0.846) total time= 1.5min\n",
      "[CV 2/5] END C=1, class_weight=None, gamma=scale, kernel=poly;, score=(train=1.000, test=0.860) total time= 1.6min\n",
      "[CV 3/5] END C=1, class_weight=None, gamma=scale, kernel=poly;, score=(train=1.000, test=0.902) total time= 1.6min\n",
      "[CV 4/5] END C=1, class_weight=None, gamma=scale, kernel=poly;, score=(train=1.000, test=0.894) total time= 1.6min\n",
      "[CV 5/5] END C=1, class_weight=None, gamma=scale, kernel=poly;, score=(train=1.000, test=0.852) total time= 1.5min\n",
      "[CV 1/5] END C=1, class_weight=None, gamma=scale, kernel=rbf;, score=(train=0.940, test=0.818) total time= 2.4min\n",
      "[CV 2/5] END C=1, class_weight=None, gamma=scale, kernel=rbf;, score=(train=0.958, test=0.839) total time= 2.3min\n",
      "[CV 3/5] END C=1, class_weight=None, gamma=scale, kernel=rbf;, score=(train=0.916, test=0.832) total time= 2.4min\n",
      "[CV 4/5] END C=1, class_weight=None, gamma=scale, kernel=rbf;, score=(train=0.926, test=0.845) total time= 2.3min\n",
      "[CV 1/5] END C=1, class_weight=None, gamma=auto, kernel=linear;, score=(train=1.000, test=0.818) total time= 1.4min\n",
      "[CV 2/5] END C=1, class_weight=None, gamma=auto, kernel=linear;, score=(train=1.000, test=0.818) total time= 1.2min\n",
      "[CV 3/5] END C=1, class_weight=None, gamma=auto, kernel=linear;, score=(train=1.000, test=0.853) total time= 1.2min\n",
      "[CV 4/5] END C=1, class_weight=None, gamma=auto, kernel=linear;, score=(train=1.000, test=0.873) total time= 1.1min\n",
      "[CV 5/5] END C=1, class_weight=None, gamma=scale, kernel=rbf;, score=(train=0.926, test=0.852) total time= 2.6min\n",
      "[CV 5/5] END C=1, class_weight=None, gamma=auto, kernel=linear;, score=(train=1.000, test=0.838) total time= 1.4min\n",
      "[CV 1/5] END C=1, class_weight=None, gamma=auto, kernel=poly;, score=(train=0.574, test=0.573) total time= 1.6min\n",
      "[CV 2/5] END C=1, class_weight=None, gamma=auto, kernel=poly;, score=(train=0.574, test=0.573) total time= 1.5min\n",
      "[CV 3/5] END C=1, class_weight=None, gamma=auto, kernel=poly;, score=(train=0.574, test=0.573) total time= 1.5min\n",
      "[CV 4/5] END C=1, class_weight=None, gamma=auto, kernel=poly;, score=(train=0.574, test=0.570) total time= 1.5min\n",
      "[CV 5/5] END C=1, class_weight=None, gamma=auto, kernel=poly;, score=(train=0.573, test=0.577) total time= 1.5min\n",
      "[CV 1/5] END C=1, class_weight=None, gamma=auto, kernel=rbf;, score=(train=0.668, test=0.664) total time= 2.5min\n",
      "[CV 2/5] END C=1, class_weight=None, gamma=auto, kernel=rbf;, score=(train=0.632, test=0.678) total time= 2.1min\n",
      "[CV 3/5] END C=1, class_weight=None, gamma=auto, kernel=rbf;, score=(train=0.675, test=0.650) total time= 2.2min\n",
      "[CV 4/5] END C=1, class_weight=None, gamma=auto, kernel=rbf;, score=(train=0.680, test=0.648) total time= 2.0min\n",
      "[CV 1/5] END C=1, class_weight=balanced, gamma=scale, kernel=linear;, score=(train=1.000, test=0.818) total time= 1.2min\n",
      "[CV 2/5] END C=1, class_weight=balanced, gamma=scale, kernel=linear;, score=(train=1.000, test=0.818) total time= 1.2min\n",
      "[CV 3/5] END C=1, class_weight=balanced, gamma=scale, kernel=linear;, score=(train=1.000, test=0.853) total time= 1.2min\n",
      "[CV 5/5] END C=1, class_weight=None, gamma=auto, kernel=rbf;, score=(train=0.667, test=0.662) total time= 2.5min\n",
      "[CV 4/5] END C=1, class_weight=balanced, gamma=scale, kernel=linear;, score=(train=1.000, test=0.873) total time= 1.2min\n",
      "[CV 5/5] END C=1, class_weight=balanced, gamma=scale, kernel=linear;, score=(train=1.000, test=0.838) total time= 1.6min\n",
      "[CV 1/5] END C=1, class_weight=balanced, gamma=scale, kernel=poly;, score=(train=1.000, test=0.846) total time= 1.6min\n",
      "[CV 2/5] END C=1, class_weight=balanced, gamma=scale, kernel=poly;, score=(train=1.000, test=0.860) total time= 1.6min\n",
      "[CV 3/5] END C=1, class_weight=balanced, gamma=scale, kernel=poly;, score=(train=1.000, test=0.902) total time= 1.5min\n",
      "[CV 4/5] END C=1, class_weight=balanced, gamma=scale, kernel=poly;, score=(train=1.000, test=0.894) total time= 1.6min\n",
      "[CV 5/5] END C=1, class_weight=balanced, gamma=scale, kernel=poly;, score=(train=1.000, test=0.852) total time= 1.5min\n",
      "[CV 1/5] END C=1, class_weight=balanced, gamma=scale, kernel=rbf;, score=(train=0.958, test=0.832) total time= 2.4min\n",
      "[CV 2/5] END C=1, class_weight=balanced, gamma=scale, kernel=rbf;, score=(train=0.947, test=0.874) total time= 2.3min\n",
      "[CV 3/5] END C=1, class_weight=balanced, gamma=scale, kernel=rbf;, score=(train=0.954, test=0.832) total time= 2.3min\n",
      "[CV 4/5] END C=1, class_weight=balanced, gamma=scale, kernel=rbf;, score=(train=0.963, test=0.859) total time= 2.2min\n",
      "[CV 1/5] END C=1, class_weight=balanced, gamma=auto, kernel=linear;, score=(train=1.000, test=0.818) total time= 1.3min\n",
      "[CV 2/5] END C=1, class_weight=balanced, gamma=auto, kernel=linear;, score=(train=1.000, test=0.818) total time= 1.2min\n",
      "[CV 3/5] END C=1, class_weight=balanced, gamma=auto, kernel=linear;, score=(train=1.000, test=0.853) total time= 1.1min\n",
      "[CV 4/5] END C=1, class_weight=balanced, gamma=auto, kernel=linear;, score=(train=1.000, test=0.873) total time= 1.2min\n",
      "[CV 5/5] END C=1, class_weight=balanced, gamma=scale, kernel=rbf;, score=(train=0.956, test=0.845) total time= 2.6min\n",
      "[CV 5/5] END C=1, class_weight=balanced, gamma=auto, kernel=linear;, score=(train=1.000, test=0.838) total time= 1.4min\n",
      "[CV 1/5] END C=1, class_weight=balanced, gamma=auto, kernel=poly;, score=(train=0.486, test=0.441) total time= 1.7min\n",
      "[CV 2/5] END C=1, class_weight=balanced, gamma=auto, kernel=poly;, score=(train=0.426, test=0.427) total time= 1.7min\n",
      "[CV 3/5] END C=1, class_weight=balanced, gamma=auto, kernel=poly;, score=(train=0.509, test=0.490) total time= 1.7min\n",
      "[CV 4/5] END C=1, class_weight=balanced, gamma=auto, kernel=poly;, score=(train=0.648, test=0.648) total time= 1.7min\n",
      "[CV 5/5] END C=1, class_weight=balanced, gamma=auto, kernel=poly;, score=(train=0.434, test=0.430) total time= 1.8min\n",
      "[CV 1/5] END C=1, class_weight=balanced, gamma=auto, kernel=rbf;, score=(train=0.633, test=0.643) total time= 2.6min\n",
      "[CV 2/5] END C=1, class_weight=balanced, gamma=auto, kernel=rbf;, score=(train=0.623, test=0.699) total time= 2.2min\n",
      "[CV 3/5] END C=1, class_weight=balanced, gamma=auto, kernel=rbf;, score=(train=0.654, test=0.594) total time= 2.4min\n",
      "[CV 4/5] END C=1, class_weight=balanced, gamma=auto, kernel=rbf;, score=(train=0.644, test=0.577) total time= 2.2min\n",
      "[CV 1/5] END C=10, class_weight=None, gamma=scale, kernel=linear;, score=(train=1.000, test=0.818) total time= 1.2min\n",
      "[CV 2/5] END C=10, class_weight=None, gamma=scale, kernel=linear;, score=(train=1.000, test=0.818) total time= 1.4min\n",
      "[CV 3/5] END C=10, class_weight=None, gamma=scale, kernel=linear;, score=(train=1.000, test=0.853) total time= 1.3min\n",
      "[CV 5/5] END C=1, class_weight=balanced, gamma=auto, kernel=rbf;, score=(train=0.641, test=0.648) total time= 2.4min\n",
      "[CV 4/5] END C=10, class_weight=None, gamma=scale, kernel=linear;, score=(train=1.000, test=0.873) total time= 1.3min\n",
      "[CV 5/5] END C=10, class_weight=None, gamma=scale, kernel=linear;, score=(train=1.000, test=0.838) total time= 1.5min\n",
      "[CV 1/5] END C=10, class_weight=None, gamma=scale, kernel=poly;, score=(train=1.000, test=0.846) total time= 1.6min\n",
      "[CV 2/5] END C=10, class_weight=None, gamma=scale, kernel=poly;, score=(train=1.000, test=0.860) total time= 1.5min\n",
      "[CV 3/5] END C=10, class_weight=None, gamma=scale, kernel=poly;, score=(train=1.000, test=0.902) total time= 1.5min\n",
      "[CV 4/5] END C=10, class_weight=None, gamma=scale, kernel=poly;, score=(train=1.000, test=0.894) total time= 1.6min\n",
      "[CV 5/5] END C=10, class_weight=None, gamma=scale, kernel=poly;, score=(train=1.000, test=0.852) total time= 1.5min\n",
      "[CV 1/5] END C=10, class_weight=None, gamma=scale, kernel=rbf;, score=(train=1.000, test=0.923) total time= 2.7min\n",
      "[CV 2/5] END C=10, class_weight=None, gamma=scale, kernel=rbf;, score=(train=1.000, test=0.958) total time= 2.1min\n",
      "[CV 3/5] END C=10, class_weight=None, gamma=scale, kernel=rbf;, score=(train=1.000, test=0.965) total time= 2.5min\n",
      "[CV 4/5] END C=10, class_weight=None, gamma=scale, kernel=rbf;, score=(train=1.000, test=0.944) total time= 2.2min\n",
      "[CV 1/5] END C=10, class_weight=None, gamma=auto, kernel=linear;, score=(train=1.000, test=0.818) total time= 1.2min\n",
      "[CV 2/5] END C=10, class_weight=None, gamma=auto, kernel=linear;, score=(train=1.000, test=0.818) total time= 1.2min\n",
      "[CV 3/5] END C=10, class_weight=None, gamma=auto, kernel=linear;, score=(train=1.000, test=0.853) total time= 1.2min\n",
      "[CV 5/5] END C=10, class_weight=None, gamma=scale, kernel=rbf;, score=(train=1.000, test=0.951) total time= 2.5min\n",
      "[CV 4/5] END C=10, class_weight=None, gamma=auto, kernel=linear;, score=(train=1.000, test=0.873) total time= 1.2min\n",
      "[CV 5/5] END C=10, class_weight=None, gamma=auto, kernel=linear;, score=(train=1.000, test=0.838) total time= 1.5min\n",
      "[CV 1/5] END C=10, class_weight=None, gamma=auto, kernel=poly;, score=(train=0.668, test=0.678) total time= 1.5min\n",
      "[CV 2/5] END C=10, class_weight=None, gamma=auto, kernel=poly;, score=(train=0.660, test=0.734) total time= 1.5min\n",
      "[CV 3/5] END C=10, class_weight=None, gamma=auto, kernel=poly;, score=(train=0.675, test=0.622) total time= 1.5min\n",
      "[CV 4/5] END C=10, class_weight=None, gamma=auto, kernel=poly;, score=(train=0.658, test=0.634) total time= 1.5min\n",
      "[CV 5/5] END C=10, class_weight=None, gamma=auto, kernel=poly;, score=(train=0.667, test=0.676) total time= 1.5min\n",
      "[CV 1/5] END C=10, class_weight=None, gamma=auto, kernel=rbf;, score=(train=0.725, test=0.699) total time= 2.3min\n",
      "[CV 2/5] END C=10, class_weight=None, gamma=auto, kernel=rbf;, score=(train=0.711, test=0.755) total time= 1.8min\n",
      "[CV 3/5] END C=10, class_weight=None, gamma=auto, kernel=rbf;, score=(train=0.733, test=0.671) total time= 1.9min\n",
      "[CV 4/5] END C=10, class_weight=None, gamma=auto, kernel=rbf;, score=(train=0.722, test=0.669) total time= 1.8min\n",
      "[CV 1/5] END C=10, class_weight=balanced, gamma=scale, kernel=linear;, score=(train=1.000, test=0.818) total time= 1.2min\n",
      "[CV 2/5] END C=10, class_weight=balanced, gamma=scale, kernel=linear;, score=(train=1.000, test=0.818) total time= 1.2min\n",
      "[CV 5/5] END C=10, class_weight=None, gamma=auto, kernel=rbf;, score=(train=0.729, test=0.697) total time= 1.9min\n",
      "[CV 3/5] END C=10, class_weight=balanced, gamma=scale, kernel=linear;, score=(train=1.000, test=0.853) total time= 1.2min\n",
      "[CV 4/5] END C=10, class_weight=balanced, gamma=scale, kernel=linear;, score=(train=1.000, test=0.873) total time= 1.6min\n",
      "[CV 5/5] END C=10, class_weight=balanced, gamma=scale, kernel=linear;, score=(train=1.000, test=0.838) total time= 1.6min\n",
      "[CV 1/5] END C=10, class_weight=balanced, gamma=scale, kernel=poly;, score=(train=1.000, test=0.846) total time= 1.6min\n",
      "[CV 2/5] END C=10, class_weight=balanced, gamma=scale, kernel=poly;, score=(train=1.000, test=0.860) total time= 1.6min\n",
      "[CV 3/5] END C=10, class_weight=balanced, gamma=scale, kernel=poly;, score=(train=1.000, test=0.902) total time= 1.6min\n",
      "[CV 4/5] END C=10, class_weight=balanced, gamma=scale, kernel=poly;, score=(train=1.000, test=0.894) total time= 1.6min\n",
      "[CV 5/5] END C=10, class_weight=balanced, gamma=scale, kernel=poly;, score=(train=1.000, test=0.852) total time= 1.6min\n",
      "[CV 1/5] END C=10, class_weight=balanced, gamma=scale, kernel=rbf;, score=(train=1.000, test=0.923) total time= 2.9min\n",
      "[CV 2/5] END C=10, class_weight=balanced, gamma=scale, kernel=rbf;, score=(train=1.000, test=0.958) total time= 2.1min\n",
      "[CV 3/5] END C=10, class_weight=balanced, gamma=scale, kernel=rbf;, score=(train=1.000, test=0.965) total time= 2.5min\n",
      "[CV 4/5] END C=10, class_weight=balanced, gamma=scale, kernel=rbf;, score=(train=1.000, test=0.944) total time= 2.1min\n",
      "[CV 1/5] END C=10, class_weight=balanced, gamma=auto, kernel=linear;, score=(train=1.000, test=0.818) total time= 1.2min\n",
      "[CV 2/5] END C=10, class_weight=balanced, gamma=auto, kernel=linear;, score=(train=1.000, test=0.818) total time= 1.2min\n",
      "[CV 3/5] END C=10, class_weight=balanced, gamma=auto, kernel=linear;, score=(train=1.000, test=0.853) total time= 1.2min\n",
      "[CV 4/5] END C=10, class_weight=balanced, gamma=auto, kernel=linear;, score=(train=1.000, test=0.873) total time= 1.2min\n",
      "[CV 5/5] END C=10, class_weight=balanced, gamma=scale, kernel=rbf;, score=(train=1.000, test=0.951) total time= 2.7min\n",
      "[CV 5/5] END C=10, class_weight=balanced, gamma=auto, kernel=linear;, score=(train=1.000, test=0.838) total time= 1.4min\n",
      "[CV 1/5] END C=10, class_weight=balanced, gamma=auto, kernel=poly;, score=(train=0.614, test=0.601) total time= 1.6min\n",
      "[CV 2/5] END C=10, class_weight=balanced, gamma=auto, kernel=poly;, score=(train=0.591, test=0.685) total time= 1.6min\n",
      "[CV 3/5] END C=10, class_weight=balanced, gamma=auto, kernel=poly;, score=(train=0.623, test=0.594) total time= 1.6min\n",
      "[CV 4/5] END C=10, class_weight=balanced, gamma=auto, kernel=poly;, score=(train=0.625, test=0.556) total time= 1.6min\n",
      "[CV 5/5] END C=10, class_weight=balanced, gamma=auto, kernel=poly;, score=(train=0.618, test=0.613) total time= 1.6min\n",
      "[CV 1/5] END C=10, class_weight=balanced, gamma=auto, kernel=rbf;, score=(train=0.767, test=0.748) total time= 2.6min\n",
      "[CV 2/5] END C=10, class_weight=balanced, gamma=auto, kernel=rbf;, score=(train=0.765, test=0.769) total time= 2.2min\n",
      "[CV 3/5] END C=10, class_weight=balanced, gamma=auto, kernel=rbf;, score=(train=0.767, test=0.706) total time= 2.1min\n",
      "[CV 4/5] END C=10, class_weight=balanced, gamma=auto, kernel=rbf;, score=(train=0.758, test=0.676) total time= 1.9min\n",
      "[CV 5/5] END C=10, class_weight=balanced, gamma=auto, kernel=rbf;, score=(train=0.757, test=0.697) total time= 1.9min\n",
      "Best parameters: {'C': 10, 'class_weight': None, 'gamma': 'scale', 'kernel': 'rbf'}\n"
     ]
    }
   ],
   "source": [
    "# Use GridSearchCV to find the best parameters for the SVM classifier\n",
    "from sklearn.model_selection import GridSearchCV\n",
    "\n",
    "# Define the parameter grid to search\n",
    "param_grid = {\n",
    "    \"kernel\": [\"linear\", \"poly\", \"rbf\"],\n",
    "    \"C\": [0.1, 1, 10],\n",
    "    \"gamma\": [\"scale\", \"auto\"],\n",
    "    \"class_weight\": [None, \"balanced\"]\n",
    "}\n",
    "\n",
    "# Create an SVM classifier object\n",
    "svm = SVC()\n",
    "\n",
    "# Use GridSearchCV to find the best combination of hyperparameters, running verbose\n",
    "grid_search = GridSearchCV(svm, param_grid, cv=5, n_jobs=2, verbose=4, return_train_score=True, pre_dispatch=4)\n",
    "grid_search.fit(X_train, y_train)\n",
    "\n",
    "# Print the best hyperparameters found\n",
    "print(\"Best parameters:\", grid_search.best_params_)"
   ]
  },
  {
   "cell_type": "code",
   "execution_count": 4,
   "metadata": {},
   "outputs": [
    {
     "name": "stdout",
     "output_type": "stream",
     "text": [
      "Accuracy:  0.9720670391061452\n"
     ]
    }
   ],
   "source": [
    "# Evaluate the classifier with the best hyperparameters\n",
    "# Create the SVM classifier\n",
    "clf = SVC(kernel='rbf', C=10, gamma='scale', class_weight=None)\n",
    "clf.fit(X_train, y_train)\n",
    "\n",
    "# Evaluate the classifier\n",
    "print(\"Accuracy: \", clf.score(X_test, y_test))"
   ]
  },
  {
   "cell_type": "code",
   "execution_count": 6,
   "metadata": {},
   "outputs": [
    {
     "name": "stdout",
     "output_type": "stream",
     "text": [
      "(480, 640, 3)\n"
     ]
    }
   ],
   "source": [
    "# Load a test image with Pillow\n",
    "from PIL import Image\n",
    "\n",
    "image = Image.open('/Users/jvelasquez/Downloads/jpg/IMG_0810.jpg')\n",
    "\n",
    "# Downscale the image, maintaining the aspect ratio\n",
    "image.thumbnail((640, 640))\n",
    "\n",
    "if image.size != (640, 480):\n",
    "    # Rotate the image on its side\n",
    "    image = image.rotate(90, expand=True)\n",
    "\n",
    "# Convert image to a numpy array\n",
    "image = np.array(image)\n",
    "print(image.shape)\n"
   ]
  },
  {
   "cell_type": "code",
   "execution_count": 7,
   "metadata": {},
   "outputs": [
    {
     "name": "stdout",
     "output_type": "stream",
     "text": [
      "(1, 921600)\n",
      "[1]\n",
      "Prediction: Green\n"
     ]
    }
   ],
   "source": [
    "# Make a prediciton on the new image\n",
    "image = image.astype('float32') / 255\n",
    "image = image.reshape(1, -1)\n",
    "print(image.shape)\n",
    "\n",
    "prediction = clf.predict(image)\n",
    "print(prediction)\n",
    "\n",
    "if prediction == 0:\n",
    "    print(\"Prediction: Red\")\n",
    "elif prediction == 1:\n",
    "    print(\"Prediction: Green\")\n",
    "else:\n",
    "    print(\"Prediction: White\")"
   ]
  },
  {
   "cell_type": "code",
   "execution_count": null,
   "metadata": {},
   "outputs": [],
   "source": [
    "# save the model to disk\n",
    "import pickle\n",
    "\n",
    "filename = 'pedestal_color_classifier.pkl'\n",
    "pickle.dump(clf, open(filename, 'wb'))"
   ]
  }
 ],
 "metadata": {
  "kernelspec": {
   "display_name": "base",
   "language": "python",
   "name": "python3"
  },
  "language_info": {
   "codemirror_mode": {
    "name": "ipython",
    "version": 3
   },
   "file_extension": ".py",
   "mimetype": "text/x-python",
   "name": "python",
   "nbconvert_exporter": "python",
   "pygments_lexer": "ipython3",
   "version": "3.9.13"
  },
  "orig_nbformat": 4,
  "vscode": {
   "interpreter": {
    "hash": "0da960a2d8f9f0c5937919d1e14a059805bb11132b17138d28509a024762a0b1"
   }
  }
 },
 "nbformat": 4,
 "nbformat_minor": 2
}
