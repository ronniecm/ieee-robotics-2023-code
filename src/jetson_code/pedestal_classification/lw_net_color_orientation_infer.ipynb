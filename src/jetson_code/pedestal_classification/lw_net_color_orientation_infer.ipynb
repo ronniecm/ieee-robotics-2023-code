{
 "cells": [
  {
   "cell_type": "code",
   "execution_count": 29,
   "metadata": {},
   "outputs": [],
   "source": [
    "import cv2\n",
    "import torch\n",
    "import torch.nn as nn\n",
    "import torch.optim as optim\n",
    "\n",
    "import numpy as np\n",
    "import torch.nn.functional as F"
   ]
  },
  {
   "cell_type": "code",
   "execution_count": 30,
   "metadata": {},
   "outputs": [],
   "source": [
    "class LightweightCNN(nn.Module):\n",
    "    def __init__(self):\n",
    "        super(LightweightCNN, self).__init__()\n",
    "        self.conv1 = nn.Conv2d(3, 16, kernel_size=3, stride=2, padding=1)\n",
    "        self.maxpool1 = nn.MaxPool2d(kernel_size=4, stride=2)\n",
    "\n",
    "        self.conv2 = nn.Conv2d(16, 32, kernel_size=5, stride=2, padding=1)\n",
    "        self.maxpool2 = nn.MaxPool2d(kernel_size=4, stride=2)\n",
    "        \n",
    "        self.conv3 = nn.Conv2d(32, 64, kernel_size=5, stride=2, padding=1)\n",
    "        self.maxpool3 = nn.MaxPool2d(kernel_size=2, stride=2)\n",
    "\n",
    "        self.fc1 = nn.Linear(64, 32)\n",
    "        self.dropout = nn.Dropout(p=0.5)\n",
    "        self.fc2 = nn.Linear(32, 6)\n",
    "\n",
    "    def forward(self, x):\n",
    "        x = F.relu(self.conv1(x))\n",
    "        x = self.maxpool1(x)\n",
    "        x = F.relu(self.conv2(x))\n",
    "        x = self.maxpool2(x)\n",
    "        x = F.relu(self.conv3(x))\n",
    "        x = self.maxpool3(x)\n",
    "\n",
    "        # Reshape for fully connected layer\n",
    "        x = torch.flatten(x, 1)\n",
    "        \n",
    "        x = F.relu(self.fc1(x))\n",
    "        x = self.dropout(x)\n",
    "        x = self.fc2(x)\n",
    "        \n",
    "        return x"
   ]
  },
  {
   "cell_type": "code",
   "execution_count": 31,
   "metadata": {},
   "outputs": [],
   "source": [
    "# Load an image from path and convert it to a tensor\n",
    "def load_image(path):\n",
    "    img = cv2.imread(path)\n",
    "    img = cv2.cvtColor(img, cv2.COLOR_BGR2RGB)\n",
    "    \n",
    "    img = img.astype(np.float32) / 255.0\n",
    "\n",
    "    # Down sample image to 160x120\n",
    "    img = cv2.resize(img, (160, 120))\n",
    "\n",
    "    print(img.shape)\n",
    "\n",
    "    # Reshape the image to have channels as the first dimension\n",
    "    img = img.transpose(2, 0, 1)\n",
    "\n",
    "    print(img.shape)\n",
    "\n",
    "    # Convert to tensor\n",
    "    img = torch.from_numpy(img)\n",
    "\n",
    "    # Add a batch dimension\n",
    "    img = img.unsqueeze(0)\n",
    "\n",
    "    print(img.shape)\n",
    "\n",
    "    return img\n",
    "\n",
    "# Load the model from path\n",
    "def load_model(path):\n",
    "    model = torch.load(path)\n",
    "\n",
    "    return model\n"
   ]
  },
  {
   "cell_type": "code",
   "execution_count": 33,
   "metadata": {},
   "outputs": [
    {
     "data": {
      "text/plain": [
       "LightweightCNN(\n",
       "  (conv1): Conv2d(3, 16, kernel_size=(3, 3), stride=(2, 2), padding=(1, 1))\n",
       "  (conv2): Conv2d(16, 32, kernel_size=(5, 5), stride=(2, 2), padding=(1, 1))\n",
       "  (conv3): Conv2d(32, 64, kernel_size=(5, 5), stride=(2, 2), padding=(1, 1))\n",
       "  (fc1): Linear(in_features=128, out_features=64, bias=True)\n",
       "  (fc2): Linear(in_features=64, out_features=6, bias=True)\n",
       "  (dropout): Dropout(p=0.5, inplace=False)\n",
       "  (maxpool): MaxPool2d(kernel_size=2, stride=2, padding=0, dilation=1, ceil_mode=False)\n",
       ")"
      ]
     },
     "execution_count": 33,
     "metadata": {},
     "output_type": "execute_result"
    }
   ],
   "source": [
    "# Load the model\n",
    "model = LightweightCNN()\n",
    "model.load_state_dict(torch.load(\"/Users/jvelasquez/Virginia_Tech/Spring_2023/ECE_4806/ieee-robotics-2023-code/src/jetson_code/pedestal_classification/lightweight_net_color_orientation_v2.pth\"))\n",
    "model.eval()"
   ]
  },
  {
   "cell_type": "code",
   "execution_count": 37,
   "metadata": {},
   "outputs": [
    {
     "name": "stdout",
     "output_type": "stream",
     "text": [
      "(120, 160, 3)\n",
      "(3, 120, 160)\n",
      "torch.Size([1, 3, 120, 160])\n",
      "tensor([[ 21.3938,  -1.4170, -11.1174, -13.1421,  33.8826, -28.8596]],\n",
      "       grad_fn=<AddmmBackward0>)\n",
      "White & Fallen\n"
     ]
    }
   ],
   "source": [
    "# Load the image\n",
    "img = load_image(\"/Users/jvelasquez/Downloads/jpg/IMG_0757.jpg\")\n",
    "\n",
    "# Run the model\n",
    "out = model(img)\n",
    "\n",
    "print(out)\n",
    "\n",
    "# Retrieve the index of the highest activation\n",
    "_, pred = torch.max(out, 1)\n",
    "\n",
    "if pred == 0:\n",
    "    print(\"Green & Fallen\")\n",
    "elif pred == 1:\n",
    "    print(\"Green & Standing\")\n",
    "elif pred == 2:\n",
    "    print(\"Red & Fallen\")\n",
    "elif pred == 3:\n",
    "    print(\"Red & Standing\")\n",
    "elif pred == 4:\n",
    "    print(\"White & Fallen\")\n",
    "elif pred == 5:\n",
    "    print(\"White & Standing\")\n",
    "else:\n",
    "    print(\"Error\")\n",
    "\n"
   ]
  }
 ],
 "metadata": {
  "kernelspec": {
   "display_name": "Python 3",
   "language": "python",
   "name": "python3"
  },
  "language_info": {
   "codemirror_mode": {
    "name": "ipython",
    "version": 3
   },
   "file_extension": ".py",
   "mimetype": "text/x-python",
   "name": "python",
   "nbconvert_exporter": "python",
   "pygments_lexer": "ipython3",
   "version": "3.8.15"
  },
  "orig_nbformat": 4
 },
 "nbformat": 4,
 "nbformat_minor": 2
}
