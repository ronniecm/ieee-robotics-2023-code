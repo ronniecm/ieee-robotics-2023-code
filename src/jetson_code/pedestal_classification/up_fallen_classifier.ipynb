{
 "cells": [
  {
   "cell_type": "code",
   "execution_count": 1,
   "metadata": {},
   "outputs": [
    {
     "name": "stdout",
     "output_type": "stream",
     "text": [
      "['images', 'labels']\n"
     ]
    }
   ],
   "source": [
    "import numpy as np\n",
    "from sklearn.model_selection import train_test_split\n",
    "from sklearn.svm import SVC\n",
    "\n",
    "\n",
    "# Import dataset from npz file\n",
    "with np.load('/Users/jvelasquez/Virginia_Tech/Spring_2023/ECE_4806/pedestal_svm/upright_fallen_dataset_bw_v3.npz') as data:\n",
    "    print(data.files)\n",
    "    images = data['images']\n",
    "    labels = data['labels']"
   ]
  },
  {
   "cell_type": "code",
   "execution_count": 2,
   "metadata": {},
   "outputs": [
    {
     "name": "stdout",
     "output_type": "stream",
     "text": [
      "Smallest value in a image:  38\n",
      "Largest value in a image:  240\n"
     ]
    }
   ],
   "source": [
    "# Split dataset into training and testing sets\n",
    "X_train, X_test, y_train, y_test = train_test_split(images, labels, test_size=0.2)\n",
    "\n",
    "# Print the smallest and largest values in a image\n",
    "print(\"Smallest value in a image: \", np.min(X_train[0]))\n",
    "print(\"Largest value in a image: \", np.max(X_train[1]))\n",
    "\n",
    "# Preprocess the images\n",
    "X_train = X_train.astype('float32') / 255\n",
    "X_test = X_test.astype('float32') / 255\n",
    "\n",
    "# Flatten the images\n",
    "X_train = X_train.reshape(X_train.shape[0], -1)\n",
    "X_test = X_test.reshape(X_test.shape[0], -1)\n",
    "\n",
    "# Create the SVM classifier\n",
    "#clf = SVC(kernel='rbf', C=10, gamma='scale', class_weight=None)\n",
    "#clf.fit(X_train, y_train)\n",
    "\n",
    "# Evaluate the classifier\n",
    "#print(\"Accuracy: \", clf.score(X_test, y_test))\n"
   ]
  },
  {
   "cell_type": "code",
   "execution_count": 20,
   "metadata": {},
   "outputs": [
    {
     "name": "stdout",
     "output_type": "stream",
     "text": [
      "Size of the classifier object:  32\n"
     ]
    }
   ],
   "source": [
    "# Print the size, in bytes, of the clf object\n",
    "print(\"Size of the classifier object: \", clf.__sizeof__())"
   ]
  },
  {
   "cell_type": "code",
   "execution_count": 3,
   "metadata": {},
   "outputs": [
    {
     "name": "stdout",
     "output_type": "stream",
     "text": [
      "Fitting 5 folds for each of 36 candidates, totalling 180 fits\n",
      "[CV 1/5] END C=0.1, class_weight=None, gamma=scale, kernel=linear;, score=(train=1.000, test=0.754) total time= 1.0min\n",
      "[CV 2/5] END C=0.1, class_weight=None, gamma=scale, kernel=linear;, score=(train=1.000, test=0.807) total time= 1.0min\n",
      "[CV 3/5] END C=0.1, class_weight=None, gamma=scale, kernel=linear;, score=(train=1.000, test=0.767) total time=  58.6s\n",
      "[CV 4/5] END C=0.1, class_weight=None, gamma=scale, kernel=linear;, score=(train=1.000, test=0.796) total time=  59.0s\n",
      "[CV 5/5] END C=0.1, class_weight=None, gamma=scale, kernel=linear;, score=(train=1.000, test=0.762) total time=  58.6s\n",
      "[CV 1/5] END C=0.1, class_weight=None, gamma=scale, kernel=poly;, score=(train=1.000, test=0.821) total time= 1.1min\n",
      "[CV 2/5] END C=0.1, class_weight=None, gamma=scale, kernel=poly;, score=(train=1.000, test=0.807) total time=  58.2s\n",
      "[CV 3/5] END C=0.1, class_weight=None, gamma=scale, kernel=poly;, score=(train=1.000, test=0.816) total time=  58.2s\n",
      "[CV 4/5] END C=0.1, class_weight=None, gamma=scale, kernel=poly;, score=(train=1.000, test=0.816) total time=  58.1s\n",
      "[CV 5/5] END C=0.1, class_weight=None, gamma=scale, kernel=poly;, score=(train=1.000, test=0.825) total time=  58.5s\n",
      "[CV 1/5] END C=0.1, class_weight=None, gamma=scale, kernel=rbf;, score=(train=0.696, test=0.671) total time= 1.6min\n",
      "[CV 2/5] END C=0.1, class_weight=None, gamma=scale, kernel=rbf;, score=(train=0.698, test=0.686) total time= 1.5min\n",
      "[CV 3/5] END C=0.1, class_weight=None, gamma=scale, kernel=rbf;, score=(train=0.699, test=0.665) total time= 1.7min\n",
      "[CV 4/5] END C=0.1, class_weight=None, gamma=scale, kernel=rbf;, score=(train=0.689, test=0.704) total time= 1.7min\n",
      "[CV 1/5] END C=0.1, class_weight=None, gamma=auto, kernel=linear;, score=(train=1.000, test=0.754) total time=  55.9s\n",
      "[CV 2/5] END C=0.1, class_weight=None, gamma=auto, kernel=linear;, score=(train=1.000, test=0.807) total time=  54.8s\n",
      "[CV 3/5] END C=0.1, class_weight=None, gamma=auto, kernel=linear;, score=(train=1.000, test=0.767) total time=  55.7s\n",
      "[CV 5/5] END C=0.1, class_weight=None, gamma=scale, kernel=rbf;, score=(train=0.689, test=0.675) total time= 1.7min\n",
      "[CV 4/5] END C=0.1, class_weight=None, gamma=auto, kernel=linear;, score=(train=1.000, test=0.796) total time=  55.0s\n",
      "[CV 5/5] END C=0.1, class_weight=None, gamma=auto, kernel=linear;, score=(train=1.000, test=0.762) total time=  57.9s\n",
      "[CV 1/5] END C=0.1, class_weight=None, gamma=auto, kernel=poly;, score=(train=0.504, test=0.507) total time= 1.1min\n",
      "[CV 2/5] END C=0.1, class_weight=None, gamma=auto, kernel=poly;, score=(train=0.505, test=0.502) total time= 1.1min\n",
      "[CV 3/5] END C=0.1, class_weight=None, gamma=auto, kernel=poly;, score=(train=0.505, test=0.505) total time= 1.1min\n",
      "[CV 4/5] END C=0.1, class_weight=None, gamma=auto, kernel=poly;, score=(train=0.505, test=0.505) total time= 1.1min\n",
      "[CV 5/5] END C=0.1, class_weight=None, gamma=auto, kernel=poly;, score=(train=0.505, test=0.505) total time= 1.1min\n",
      "[CV 1/5] END C=0.1, class_weight=None, gamma=auto, kernel=rbf;, score=(train=0.504, test=0.507) total time= 1.9min\n",
      "[CV 2/5] END C=0.1, class_weight=None, gamma=auto, kernel=rbf;, score=(train=0.505, test=0.502) total time= 1.7min\n",
      "[CV 3/5] END C=0.1, class_weight=None, gamma=auto, kernel=rbf;, score=(train=0.505, test=0.505) total time= 1.8min\n",
      "[CV 4/5] END C=0.1, class_weight=None, gamma=auto, kernel=rbf;, score=(train=0.505, test=0.505) total time= 1.6min\n",
      "[CV 1/5] END C=0.1, class_weight=balanced, gamma=scale, kernel=linear;, score=(train=1.000, test=0.754) total time=  54.2s\n",
      "[CV 2/5] END C=0.1, class_weight=balanced, gamma=scale, kernel=linear;, score=(train=1.000, test=0.807) total time=  53.7s\n",
      "[CV 3/5] END C=0.1, class_weight=balanced, gamma=scale, kernel=linear;, score=(train=1.000, test=0.767) total time=  53.1s\n",
      "[CV 5/5] END C=0.1, class_weight=None, gamma=auto, kernel=rbf;, score=(train=0.505, test=0.505) total time= 1.8min\n",
      "[CV 4/5] END C=0.1, class_weight=balanced, gamma=scale, kernel=linear;, score=(train=1.000, test=0.796) total time=  55.1s\n",
      "[CV 5/5] END C=0.1, class_weight=balanced, gamma=scale, kernel=linear;, score=(train=1.000, test=0.762) total time=  58.6s\n",
      "[CV 1/5] END C=0.1, class_weight=balanced, gamma=scale, kernel=poly;, score=(train=1.000, test=0.821) total time= 1.1min\n",
      "[CV 2/5] END C=0.1, class_weight=balanced, gamma=scale, kernel=poly;, score=(train=1.000, test=0.807) total time=  57.7s\n",
      "[CV 3/5] END C=0.1, class_weight=balanced, gamma=scale, kernel=poly;, score=(train=1.000, test=0.816) total time=  58.3s\n",
      "[CV 4/5] END C=0.1, class_weight=balanced, gamma=scale, kernel=poly;, score=(train=1.000, test=0.816) total time=  57.4s\n",
      "[CV 5/5] END C=0.1, class_weight=balanced, gamma=scale, kernel=poly;, score=(train=1.000, test=0.825) total time=  59.8s\n",
      "[CV 1/5] END C=0.1, class_weight=balanced, gamma=scale, kernel=rbf;, score=(train=0.697, test=0.671) total time= 1.7min\n",
      "[CV 2/5] END C=0.1, class_weight=balanced, gamma=scale, kernel=rbf;, score=(train=0.699, test=0.691) total time= 1.5min\n",
      "[CV 3/5] END C=0.1, class_weight=balanced, gamma=scale, kernel=rbf;, score=(train=0.700, test=0.665) total time= 1.5min\n",
      "[CV 4/5] END C=0.1, class_weight=balanced, gamma=scale, kernel=rbf;, score=(train=0.694, test=0.709) total time= 1.5min\n",
      "[CV 1/5] END C=0.1, class_weight=balanced, gamma=auto, kernel=linear;, score=(train=1.000, test=0.754) total time=  53.3s\n",
      "[CV 2/5] END C=0.1, class_weight=balanced, gamma=auto, kernel=linear;, score=(train=1.000, test=0.807) total time=  53.6s\n",
      "[CV 5/5] END C=0.1, class_weight=balanced, gamma=scale, kernel=rbf;, score=(train=0.691, test=0.680) total time= 1.5min\n",
      "[CV 3/5] END C=0.1, class_weight=balanced, gamma=auto, kernel=linear;, score=(train=1.000, test=0.767) total time=  53.0s\n",
      "[CV 4/5] END C=0.1, class_weight=balanced, gamma=auto, kernel=linear;, score=(train=1.000, test=0.796) total time=  57.5s\n",
      "[CV 5/5] END C=0.1, class_weight=balanced, gamma=auto, kernel=linear;, score=(train=1.000, test=0.762) total time=  57.8s\n",
      "[CV 1/5] END C=0.1, class_weight=balanced, gamma=auto, kernel=poly;, score=(train=0.504, test=0.507) total time= 1.1min\n",
      "[CV 2/5] END C=0.1, class_weight=balanced, gamma=auto, kernel=poly;, score=(train=0.495, test=0.498) total time= 1.1min\n",
      "[CV 3/5] END C=0.1, class_weight=balanced, gamma=auto, kernel=poly;, score=(train=0.495, test=0.495) total time= 1.1min\n",
      "[CV 4/5] END C=0.1, class_weight=balanced, gamma=auto, kernel=poly;, score=(train=0.495, test=0.495) total time= 1.1min\n",
      "[CV 5/5] END C=0.1, class_weight=balanced, gamma=auto, kernel=poly;, score=(train=0.495, test=0.495) total time= 1.1min\n",
      "[CV 1/5] END C=0.1, class_weight=balanced, gamma=auto, kernel=rbf;, score=(train=0.509, test=0.527) total time= 2.0min\n",
      "[CV 2/5] END C=0.1, class_weight=balanced, gamma=auto, kernel=rbf;, score=(train=0.496, test=0.498) total time= 1.7min\n",
      "[CV 3/5] END C=0.1, class_weight=balanced, gamma=auto, kernel=rbf;, score=(train=0.512, test=0.505) total time= 1.7min\n",
      "[CV 4/5] END C=0.1, class_weight=balanced, gamma=auto, kernel=rbf;, score=(train=0.495, test=0.495) total time= 1.6min\n",
      "[CV 1/5] END C=1, class_weight=None, gamma=scale, kernel=linear;, score=(train=1.000, test=0.754) total time=  53.6s\n",
      "[CV 2/5] END C=1, class_weight=None, gamma=scale, kernel=linear;, score=(train=1.000, test=0.807) total time=  54.2s\n",
      "[CV 3/5] END C=1, class_weight=None, gamma=scale, kernel=linear;, score=(train=1.000, test=0.767) total time=  53.6s\n",
      "[CV 5/5] END C=0.1, class_weight=balanced, gamma=auto, kernel=rbf;, score=(train=0.505, test=0.519) total time= 1.8min\n",
      "[CV 4/5] END C=1, class_weight=None, gamma=scale, kernel=linear;, score=(train=1.000, test=0.796) total time=  57.8s\n",
      "[CV 5/5] END C=1, class_weight=None, gamma=scale, kernel=linear;, score=(train=1.000, test=0.762) total time= 1.0min\n",
      "[CV 1/5] END C=1, class_weight=None, gamma=scale, kernel=poly;, score=(train=1.000, test=0.821) total time= 1.1min\n",
      "[CV 2/5] END C=1, class_weight=None, gamma=scale, kernel=poly;, score=(train=1.000, test=0.807) total time=  59.3s\n",
      "[CV 3/5] END C=1, class_weight=None, gamma=scale, kernel=poly;, score=(train=1.000, test=0.816) total time=  58.2s\n",
      "[CV 4/5] END C=1, class_weight=None, gamma=scale, kernel=poly;, score=(train=1.000, test=0.816) total time=  58.1s\n",
      "[CV 5/5] END C=1, class_weight=None, gamma=scale, kernel=poly;, score=(train=1.000, test=0.825) total time=  58.3s\n",
      "[CV 1/5] END C=1, class_weight=None, gamma=scale, kernel=rbf;, score=(train=0.935, test=0.831) total time= 1.5min\n",
      "[CV 2/5] END C=1, class_weight=None, gamma=scale, kernel=rbf;, score=(train=0.928, test=0.845) total time= 1.3min\n",
      "[CV 3/5] END C=1, class_weight=None, gamma=scale, kernel=rbf;, score=(train=0.923, test=0.845) total time= 1.3min\n",
      "[CV 4/5] END C=1, class_weight=None, gamma=scale, kernel=rbf;, score=(train=0.914, test=0.845) total time= 1.3min\n",
      "[CV 1/5] END C=1, class_weight=None, gamma=auto, kernel=linear;, score=(train=1.000, test=0.754) total time=  54.8s\n",
      "[CV 2/5] END C=1, class_weight=None, gamma=auto, kernel=linear;, score=(train=1.000, test=0.807) total time=  54.0s\n",
      "[CV 5/5] END C=1, class_weight=None, gamma=scale, kernel=rbf;, score=(train=0.924, test=0.830) total time= 1.3min\n",
      "[CV 3/5] END C=1, class_weight=None, gamma=auto, kernel=linear;, score=(train=1.000, test=0.767) total time=  56.7s\n",
      "[CV 4/5] END C=1, class_weight=None, gamma=auto, kernel=linear;, score=(train=1.000, test=0.796) total time=  58.5s\n",
      "[CV 5/5] END C=1, class_weight=None, gamma=auto, kernel=linear;, score=(train=1.000, test=0.762) total time=  58.6s\n",
      "[CV 1/5] END C=1, class_weight=None, gamma=auto, kernel=poly;, score=(train=0.622, test=0.623) total time= 1.1min\n",
      "[CV 2/5] END C=1, class_weight=None, gamma=auto, kernel=poly;, score=(train=0.623, test=0.614) total time= 1.1min\n",
      "[CV 3/5] END C=1, class_weight=None, gamma=auto, kernel=poly;, score=(train=0.622, test=0.621) total time= 1.3min\n",
      "[CV 4/5] END C=1, class_weight=None, gamma=auto, kernel=poly;, score=(train=0.615, test=0.646) total time= 3.5min\n",
      "[CV 5/5] END C=1, class_weight=None, gamma=auto, kernel=poly;, score=(train=0.625, test=0.602) total time= 2.0min\n",
      "[CV 1/5] END C=1, class_weight=None, gamma=auto, kernel=rbf;, score=(train=0.687, test=0.671) total time= 7.3min\n",
      "[CV 2/5] END C=1, class_weight=None, gamma=auto, kernel=rbf;, score=(train=0.685, test=0.676) total time= 5.8min\n",
      "[CV 3/5] END C=1, class_weight=None, gamma=auto, kernel=rbf;, score=(train=0.686, test=0.670) total time= 2.9min\n",
      "[CV 4/5] END C=1, class_weight=None, gamma=auto, kernel=rbf;, score=(train=0.682, test=0.704) total time= 2.7min\n",
      "[CV 1/5] END C=1, class_weight=balanced, gamma=scale, kernel=linear;, score=(train=1.000, test=0.754) total time=  53.6s\n",
      "[CV 2/5] END C=1, class_weight=balanced, gamma=scale, kernel=linear;, score=(train=1.000, test=0.807) total time=  54.1s\n",
      "[CV 3/5] END C=1, class_weight=balanced, gamma=scale, kernel=linear;, score=(train=1.000, test=0.767) total time=  50.0s\n",
      "[CV 5/5] END C=1, class_weight=None, gamma=auto, kernel=rbf;, score=(train=0.679, test=0.684) total time= 1.6min\n",
      "[CV 4/5] END C=1, class_weight=balanced, gamma=scale, kernel=linear;, score=(train=1.000, test=0.796) total time=  57.3s\n",
      "[CV 5/5] END C=1, class_weight=balanced, gamma=scale, kernel=linear;, score=(train=1.000, test=0.762) total time=  58.4s\n",
      "[CV 1/5] END C=1, class_weight=balanced, gamma=scale, kernel=poly;, score=(train=1.000, test=0.821) total time= 1.1min\n",
      "[CV 2/5] END C=1, class_weight=balanced, gamma=scale, kernel=poly;, score=(train=1.000, test=0.807) total time=  58.1s\n",
      "[CV 3/5] END C=1, class_weight=balanced, gamma=scale, kernel=poly;, score=(train=1.000, test=0.816) total time=  59.9s\n",
      "[CV 4/5] END C=1, class_weight=balanced, gamma=scale, kernel=poly;, score=(train=1.000, test=0.816) total time=  59.7s\n",
      "[CV 5/5] END C=1, class_weight=balanced, gamma=scale, kernel=poly;, score=(train=1.000, test=0.825) total time=  57.5s\n",
      "[CV 1/5] END C=1, class_weight=balanced, gamma=scale, kernel=rbf;, score=(train=0.936, test=0.836) total time= 1.4min\n",
      "[CV 2/5] END C=1, class_weight=balanced, gamma=scale, kernel=rbf;, score=(train=0.928, test=0.845) total time= 1.3min\n",
      "[CV 3/5] END C=1, class_weight=balanced, gamma=scale, kernel=rbf;, score=(train=0.921, test=0.850) total time= 1.2min\n",
      "[CV 4/5] END C=1, class_weight=balanced, gamma=scale, kernel=rbf;, score=(train=0.916, test=0.845) total time= 1.3min\n",
      "[CV 1/5] END C=1, class_weight=balanced, gamma=auto, kernel=linear;, score=(train=1.000, test=0.754) total time=  53.6s\n",
      "[CV 5/5] END C=1, class_weight=balanced, gamma=scale, kernel=rbf;, score=(train=0.921, test=0.830) total time= 1.2min\n",
      "[CV 2/5] END C=1, class_weight=balanced, gamma=auto, kernel=linear;, score=(train=1.000, test=0.807) total time=  53.3s\n",
      "[CV 3/5] END C=1, class_weight=balanced, gamma=auto, kernel=linear;, score=(train=1.000, test=0.767) total time=  57.4s\n",
      "[CV 4/5] END C=1, class_weight=balanced, gamma=auto, kernel=linear;, score=(train=1.000, test=0.796) total time=  57.8s\n",
      "[CV 5/5] END C=1, class_weight=balanced, gamma=auto, kernel=linear;, score=(train=1.000, test=0.762) total time=  59.6s\n",
      "[CV 1/5] END C=1, class_weight=balanced, gamma=auto, kernel=poly;, score=(train=0.627, test=0.623) total time= 1.1min\n",
      "[CV 2/5] END C=1, class_weight=balanced, gamma=auto, kernel=poly;, score=(train=0.625, test=0.614) total time= 1.1min\n",
      "[CV 3/5] END C=1, class_weight=balanced, gamma=auto, kernel=poly;, score=(train=0.626, test=0.626) total time= 1.1min\n",
      "[CV 4/5] END C=1, class_weight=balanced, gamma=auto, kernel=poly;, score=(train=0.615, test=0.655) total time= 1.1min\n",
      "[CV 5/5] END C=1, class_weight=balanced, gamma=auto, kernel=poly;, score=(train=0.630, test=0.602) total time= 1.1min\n",
      "[CV 1/5] END C=1, class_weight=balanced, gamma=auto, kernel=rbf;, score=(train=0.688, test=0.676) total time= 1.6min\n",
      "[CV 2/5] END C=1, class_weight=balanced, gamma=auto, kernel=rbf;, score=(train=0.686, test=0.681) total time= 1.5min\n",
      "[CV 3/5] END C=1, class_weight=balanced, gamma=auto, kernel=rbf;, score=(train=0.688, test=0.670) total time= 1.5min\n",
      "[CV 4/5] END C=1, class_weight=balanced, gamma=auto, kernel=rbf;, score=(train=0.689, test=0.704) total time= 1.5min\n",
      "[CV 1/5] END C=10, class_weight=None, gamma=scale, kernel=linear;, score=(train=1.000, test=0.754) total time=  54.9s\n",
      "[CV 2/5] END C=10, class_weight=None, gamma=scale, kernel=linear;, score=(train=1.000, test=0.807) total time=  53.6s\n",
      "[CV 3/5] END C=10, class_weight=None, gamma=scale, kernel=linear;, score=(train=1.000, test=0.767) total time=  53.1s\n",
      "[CV 5/5] END C=1, class_weight=balanced, gamma=auto, kernel=rbf;, score=(train=0.680, test=0.689) total time= 1.6min\n",
      "[CV 4/5] END C=10, class_weight=None, gamma=scale, kernel=linear;, score=(train=1.000, test=0.796) total time=  57.9s\n",
      "[CV 5/5] END C=10, class_weight=None, gamma=scale, kernel=linear;, score=(train=1.000, test=0.762) total time=  59.6s\n",
      "[CV 1/5] END C=10, class_weight=None, gamma=scale, kernel=poly;, score=(train=1.000, test=0.821) total time= 1.1min\n",
      "[CV 2/5] END C=10, class_weight=None, gamma=scale, kernel=poly;, score=(train=1.000, test=0.807) total time=  59.4s\n",
      "[CV 3/5] END C=10, class_weight=None, gamma=scale, kernel=poly;, score=(train=1.000, test=0.816) total time=  59.7s\n",
      "[CV 4/5] END C=10, class_weight=None, gamma=scale, kernel=poly;, score=(train=1.000, test=0.816) total time=  59.7s\n",
      "[CV 5/5] END C=10, class_weight=None, gamma=scale, kernel=poly;, score=(train=1.000, test=0.825) total time=  58.9s\n",
      "[CV 1/5] END C=10, class_weight=None, gamma=scale, kernel=rbf;, score=(train=1.000, test=0.932) total time= 1.6min\n",
      "[CV 2/5] END C=10, class_weight=None, gamma=scale, kernel=rbf;, score=(train=1.000, test=0.884) total time= 1.4min\n",
      "[CV 3/5] END C=10, class_weight=None, gamma=scale, kernel=rbf;, score=(train=1.000, test=0.932) total time= 1.4min\n",
      "[CV 4/5] END C=10, class_weight=None, gamma=scale, kernel=rbf;, score=(train=1.000, test=0.908) total time= 1.4min\n",
      "[CV 1/5] END C=10, class_weight=None, gamma=auto, kernel=linear;, score=(train=1.000, test=0.754) total time=  55.1s\n",
      "[CV 2/5] END C=10, class_weight=None, gamma=auto, kernel=linear;, score=(train=1.000, test=0.807) total time=  52.9s\n",
      "[CV 5/5] END C=10, class_weight=None, gamma=scale, kernel=rbf;, score=(train=1.000, test=0.898) total time= 1.5min\n",
      "[CV 3/5] END C=10, class_weight=None, gamma=auto, kernel=linear;, score=(train=1.000, test=0.767) total time=  57.0s\n",
      "[CV 4/5] END C=10, class_weight=None, gamma=auto, kernel=linear;, score=(train=1.000, test=0.796) total time=  58.9s\n",
      "[CV 5/5] END C=10, class_weight=None, gamma=auto, kernel=linear;, score=(train=1.000, test=0.762) total time=  59.3s\n",
      "[CV 1/5] END C=10, class_weight=None, gamma=auto, kernel=poly;, score=(train=0.661, test=0.638) total time=  56.7s\n",
      "[CV 2/5] END C=10, class_weight=None, gamma=auto, kernel=poly;, score=(train=0.668, test=0.667) total time=  57.7s\n",
      "[CV 3/5] END C=10, class_weight=None, gamma=auto, kernel=poly;, score=(train=0.671, test=0.646) total time=  56.5s\n",
      "[CV 4/5] END C=10, class_weight=None, gamma=auto, kernel=poly;, score=(train=0.662, test=0.699) total time=  57.4s\n",
      "[CV 5/5] END C=10, class_weight=None, gamma=auto, kernel=poly;, score=(train=0.650, test=0.626) total time=  56.5s\n",
      "[CV 1/5] END C=10, class_weight=None, gamma=auto, kernel=rbf;, score=(train=0.743, test=0.758) total time= 1.4min\n",
      "[CV 2/5] END C=10, class_weight=None, gamma=auto, kernel=rbf;, score=(train=0.752, test=0.729) total time= 1.3min\n",
      "[CV 3/5] END C=10, class_weight=None, gamma=auto, kernel=rbf;, score=(train=0.753, test=0.709) total time= 1.3min\n",
      "[CV 4/5] END C=10, class_weight=None, gamma=auto, kernel=rbf;, score=(train=0.751, test=0.723) total time= 1.3min\n",
      "[CV 1/5] END C=10, class_weight=balanced, gamma=scale, kernel=linear;, score=(train=1.000, test=0.754) total time=  56.7s\n",
      "[CV 2/5] END C=10, class_weight=balanced, gamma=scale, kernel=linear;, score=(train=1.000, test=0.807) total time=  54.2s\n",
      "[CV 5/5] END C=10, class_weight=None, gamma=auto, kernel=rbf;, score=(train=0.747, test=0.762) total time= 1.4min\n",
      "[CV 3/5] END C=10, class_weight=balanced, gamma=scale, kernel=linear;, score=(train=1.000, test=0.767) total time=  52.9s\n",
      "[CV 4/5] END C=10, class_weight=balanced, gamma=scale, kernel=linear;, score=(train=1.000, test=0.796) total time= 1.0min\n",
      "[CV 5/5] END C=10, class_weight=balanced, gamma=scale, kernel=linear;, score=(train=1.000, test=0.762) total time= 1.0min\n",
      "[CV 2/5] END C=10, class_weight=balanced, gamma=scale, kernel=poly;, score=(train=1.000, test=0.807) total time=  59.7s\n",
      "[CV 1/5] END C=10, class_weight=balanced, gamma=scale, kernel=poly;, score=(train=1.000, test=0.821) total time= 1.1min\n",
      "[CV 3/5] END C=10, class_weight=balanced, gamma=scale, kernel=poly;, score=(train=1.000, test=0.816) total time=  59.3s\n",
      "[CV 4/5] END C=10, class_weight=balanced, gamma=scale, kernel=poly;, score=(train=1.000, test=0.816) total time=  59.2s\n",
      "[CV 5/5] END C=10, class_weight=balanced, gamma=scale, kernel=poly;, score=(train=1.000, test=0.825) total time=  59.1s\n",
      "[CV 1/5] END C=10, class_weight=balanced, gamma=scale, kernel=rbf;, score=(train=1.000, test=0.932) total time= 1.6min\n",
      "[CV 2/5] END C=10, class_weight=balanced, gamma=scale, kernel=rbf;, score=(train=1.000, test=0.884) total time= 1.4min\n",
      "[CV 3/5] END C=10, class_weight=balanced, gamma=scale, kernel=rbf;, score=(train=1.000, test=0.932) total time= 1.4min\n",
      "[CV 4/5] END C=10, class_weight=balanced, gamma=scale, kernel=rbf;, score=(train=1.000, test=0.908) total time= 1.4min\n",
      "[CV 1/5] END C=10, class_weight=balanced, gamma=auto, kernel=linear;, score=(train=1.000, test=0.754) total time=  54.0s\n",
      "[CV 2/5] END C=10, class_weight=balanced, gamma=auto, kernel=linear;, score=(train=1.000, test=0.807) total time=  52.9s\n",
      "[CV 5/5] END C=10, class_weight=balanced, gamma=scale, kernel=rbf;, score=(train=1.000, test=0.898) total time= 1.4min\n",
      "[CV 3/5] END C=10, class_weight=balanced, gamma=auto, kernel=linear;, score=(train=1.000, test=0.767) total time=  57.9s\n",
      "[CV 4/5] END C=10, class_weight=balanced, gamma=auto, kernel=linear;, score=(train=1.000, test=0.796) total time=  58.8s\n",
      "[CV 5/5] END C=10, class_weight=balanced, gamma=auto, kernel=linear;, score=(train=1.000, test=0.762) total time=  59.1s\n",
      "[CV 1/5] END C=10, class_weight=balanced, gamma=auto, kernel=poly;, score=(train=0.665, test=0.647) total time=  57.7s\n",
      "[CV 2/5] END C=10, class_weight=balanced, gamma=auto, kernel=poly;, score=(train=0.672, test=0.671) total time=  58.1s\n",
      "[CV 3/5] END C=10, class_weight=balanced, gamma=auto, kernel=poly;, score=(train=0.674, test=0.646) total time=  57.8s\n",
      "[CV 4/5] END C=10, class_weight=balanced, gamma=auto, kernel=poly;, score=(train=0.663, test=0.699) total time=  59.0s\n",
      "[CV 5/5] END C=10, class_weight=balanced, gamma=auto, kernel=poly;, score=(train=0.653, test=0.636) total time=  58.9s\n",
      "[CV 1/5] END C=10, class_weight=balanced, gamma=auto, kernel=rbf;, score=(train=0.742, test=0.763) total time= 1.3min\n",
      "[CV 2/5] END C=10, class_weight=balanced, gamma=auto, kernel=rbf;, score=(train=0.753, test=0.729) total time= 1.3min\n",
      "[CV 3/5] END C=10, class_weight=balanced, gamma=auto, kernel=rbf;, score=(train=0.752, test=0.709) total time= 1.3min\n",
      "[CV 4/5] END C=10, class_weight=balanced, gamma=auto, kernel=rbf;, score=(train=0.752, test=0.723) total time= 1.3min\n",
      "[CV 5/5] END C=10, class_weight=balanced, gamma=auto, kernel=rbf;, score=(train=0.748, test=0.762) total time= 1.1min\n",
      "Best parameters: {'C': 10, 'class_weight': None, 'gamma': 'scale', 'kernel': 'rbf'}\n"
     ]
    }
   ],
   "source": [
    "# Use GridSearchCV to find the best parameters for the SVM classifier\n",
    "from sklearn.model_selection import GridSearchCV\n",
    "\n",
    "# Define the parameter grid to search\n",
    "param_grid = {\n",
    "    \"kernel\": [\"linear\", \"poly\", \"rbf\"],\n",
    "    \"C\": [0.1, 1, 10],\n",
    "    \"gamma\": [\"scale\", \"auto\"],\n",
    "    \"class_weight\": [None, \"balanced\"]\n",
    "}\n",
    "\n",
    "# Create an SVM classifier object\n",
    "svm = SVC()\n",
    "\n",
    "# Use GridSearchCV to find the best combination of hyperparameters, running verbose\n",
    "grid_search = GridSearchCV(svm, param_grid, cv=5, n_jobs=2, verbose=4, return_train_score=True, pre_dispatch=4)\n",
    "grid_search.fit(X_train, y_train)\n",
    "\n",
    "# Print the best hyperparameters found\n",
    "print(\"Best parameters:\", grid_search.best_params_)"
   ]
  },
  {
   "cell_type": "code",
   "execution_count": 4,
   "metadata": {},
   "outputs": [
    {
     "name": "stdout",
     "output_type": "stream",
     "text": [
      "Accuracy:  0.9720670391061452\n"
     ]
    }
   ],
   "source": [
    "# Evaluate the classifier with the best hyperparameters\n",
    "# Create the SVM classifier\n",
    "clf = SVC(kernel='rbf', C=10, gamma='scale', class_weight=None)\n",
    "clf.fit(X_train, y_train)\n",
    "\n",
    "# Evaluate the classifier\n",
    "print(\"Accuracy: \", clf.score(X_test, y_test))"
   ]
  },
  {
   "cell_type": "code",
   "execution_count": 31,
   "metadata": {},
   "outputs": [
    {
     "name": "stdout",
     "output_type": "stream",
     "text": [
      "(480, 640, 3)\n"
     ]
    }
   ],
   "source": [
    "# Load a test image with Pillow\n",
    "from PIL import Image\n",
    "\n",
    "image = Image.open('/Users/jvelasquez/Downloads/jpg/IMG_0768.jpg')\n",
    "\n",
    "# Downscale the image, maintaining the aspect ratio\n",
    "image.thumbnail((640, 640))\n",
    "\n",
    "if image.size != (640, 480):\n",
    "    # Rotate the image on its side\n",
    "    image = image.rotate(90, expand=True)\n",
    "\n",
    "# Convert image to a numpy array\n",
    "image = np.array(image)\n",
    "print(image.shape)\n"
   ]
  },
  {
   "cell_type": "code",
   "execution_count": 32,
   "metadata": {},
   "outputs": [
    {
     "name": "stdout",
     "output_type": "stream",
     "text": [
      "(1, 921600)\n",
      "[1]\n"
     ]
    }
   ],
   "source": [
    "# Make a prediciton on the new image\n",
    "image = image.astype('float32') / 255\n",
    "image = image.reshape(1, -1)\n",
    "print(image.shape)\n",
    "\n",
    "prediction = clf.predict(image)\n",
    "print(prediction)"
   ]
  },
  {
   "cell_type": "code",
   "execution_count": 33,
   "metadata": {},
   "outputs": [],
   "source": [
    "# save the model to disk\n",
    "import pickle\n",
    "\n",
    "filename = 'pedestal_orientation_classifier.pkl'\n",
    "pickle.dump(clf, open(filename, 'wb'))"
   ]
  },
  {
   "cell_type": "code",
   "execution_count": 34,
   "metadata": {},
   "outputs": [
    {
     "data": {
      "text/plain": [
       "['pedestal_orientation_classifier.joblib']"
      ]
     },
     "execution_count": 34,
     "metadata": {},
     "output_type": "execute_result"
    }
   ],
   "source": [
    "from joblib import dump, load\n",
    "dump(clf, 'pedestal_orientation_classifier.joblib') "
   ]
  }
 ],
 "metadata": {
  "kernelspec": {
   "display_name": "base",
   "language": "python",
   "name": "python3"
  },
  "language_info": {
   "codemirror_mode": {
    "name": "ipython",
    "version": 3
   },
   "file_extension": ".py",
   "mimetype": "text/x-python",
   "name": "python",
   "nbconvert_exporter": "python",
   "pygments_lexer": "ipython3",
   "version": "3.9.13"
  },
  "orig_nbformat": 4,
  "vscode": {
   "interpreter": {
    "hash": "0da960a2d8f9f0c5937919d1e14a059805bb11132b17138d28509a024762a0b1"
   }
  }
 },
 "nbformat": 4,
 "nbformat_minor": 2
}
