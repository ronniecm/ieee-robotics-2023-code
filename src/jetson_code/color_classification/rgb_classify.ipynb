{
 "cells": [
  {
   "cell_type": "code",
   "execution_count": 1048,
   "metadata": {},
   "outputs": [],
   "source": [
    "import numpy as np\n",
    "from sklearn.model_selection import train_test_split\n",
    "from sklearn.svm import SVC"
   ]
  },
  {
   "cell_type": "code",
   "execution_count": 1049,
   "metadata": {},
   "outputs": [
    {
     "name": "stdout",
     "output_type": "stream",
     "text": [
      "[[400. 143. 133.]\n",
      " [409. 145. 135.]\n",
      " [412. 146. 136.]\n",
      " [276. 230. 156.]\n",
      " [281. 239. 164.]\n",
      " [291. 262. 178.]\n",
      " [251. 119. 105.]\n",
      " [251. 119. 104.]\n",
      " [250. 118. 104.]\n",
      " [848. 845. 735.]\n",
      " [820. 821. 719.]\n",
      " [846. 856. 750.]\n",
      " [268. 199. 250.]\n",
      " [270. 203. 255.]\n",
      " [267. 198. 250.]]\n",
      "[[0.5     0.17875 0.16625]\n",
      " [0.51125 0.18125 0.16875]\n",
      " [0.515   0.1825  0.17   ]\n",
      " [0.345   0.2875  0.195  ]\n",
      " [0.35125 0.29875 0.205  ]\n",
      " [0.36375 0.3275  0.2225 ]\n",
      " [0.31375 0.14875 0.13125]\n",
      " [0.31375 0.14875 0.13   ]\n",
      " [0.3125  0.1475  0.13   ]\n",
      " [1.06    1.05625 0.91875]\n",
      " [1.025   1.02625 0.89875]\n",
      " [1.0575  1.07    0.9375 ]\n",
      " [0.335   0.24875 0.3125 ]\n",
      " [0.3375  0.25375 0.31875]\n",
      " [0.33375 0.2475  0.3125 ]]\n",
      "(12, 3)\n",
      "(3, 3)\n"
     ]
    }
   ],
   "source": [
    "# Classes correspond to:\n",
    "# 0: Red Manatee\n",
    "# 1: Green Manatee\n",
    "# 2: Black Board\n",
    "# 3: White Board\n",
    "# 4: Blue Dock Pond\n",
    "\n",
    "# Import data from csv file into numpy array\n",
    "data = np.genfromtxt('/home/mdelab/ieee-robotics-2023-code/src/jetson_code/color_classification/rgb_data.csv', delimiter=',', skip_header=1)\n",
    "\n",
    "# Split data into features and labels\n",
    "X = data[:, 0:3]\n",
    "y = data[:, 3]\n",
    "\n",
    "print(X)\n",
    "\n",
    "# Divide all features by 800 to normalize\n",
    "X = X / 800\n",
    "\n",
    "print(X)\n",
    "\n",
    "# Generate training and testing data\n",
    "X_train, X_test, y_train, y_test = train_test_split(X, y, test_size=0.2)\n",
    "\n",
    "# Print shapes of training and testing data\n",
    "print(X_train.shape)\n",
    "print(X_test.shape)\n",
    "\n"
   ]
  },
  {
   "cell_type": "code",
   "execution_count": 1050,
   "metadata": {},
   "outputs": [
    {
     "data": {
      "text/plain": [
       "SVC(C=10, cache_size=200, class_weight=None, coef0=0.0,\n",
       "  decision_function_shape='ovr', degree=3, gamma=0.001, kernel='poly',\n",
       "  max_iter=-1, probability=False, random_state=None, shrinking=True,\n",
       "  tol=0.001, verbose=False)"
      ]
     },
     "execution_count": 1050,
     "metadata": {},
     "output_type": "execute_result"
    }
   ],
   "source": [
    "# Create SVM classifier\n",
    "clf = SVC(kernel='poly', C=10, gamma=0.001)\n",
    "clf.fit(X, y)"
   ]
  },
  {
   "cell_type": "code",
   "execution_count": 1051,
   "metadata": {},
   "outputs": [
    {
     "name": "stdout",
     "output_type": "stream",
     "text": [
      "Accuracy:  1.0\n",
      "Actual:  [2. 1. 3.]\n",
      "Predicted:  [2. 1. 3.]\n",
      "RGB Values:  [[251. 119. 105.]\n",
      " [291. 262. 178.]\n",
      " [846. 856. 750.]]\n"
     ]
    }
   ],
   "source": [
    "# Evaluate classifier on test set\n",
    "print(\"Accuracy: \", clf.score(X_test, y_test))\n",
    "\n",
    "# Print the actual class vs the predicted class\n",
    "print(\"Actual: \", y_test)\n",
    "print(\"Predicted: \", clf.predict(X_test))\n",
    "\n",
    "# Print the unnormailzed RGB values of the test set\n",
    "print(\"RGB Values: \", X_test * 800)"
   ]
  }
 ],
 "metadata": {
  "kernelspec": {
   "display_name": "base",
   "language": "python",
   "name": "python3"
  },
  "language_info": {
   "codemirror_mode": {
    "name": "ipython",
    "version": 3
   },
   "file_extension": ".py",
   "mimetype": "text/x-python",
   "name": "python",
   "nbconvert_exporter": "python",
   "pygments_lexer": "ipython3",
   "version": "3.7.16"
  },
  "orig_nbformat": 4
 },
 "nbformat": 4,
 "nbformat_minor": 2
}
