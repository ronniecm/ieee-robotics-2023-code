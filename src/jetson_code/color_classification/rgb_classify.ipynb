{
 "cells": [
  {
   "cell_type": "code",
   "execution_count": null,
   "metadata": {},
   "outputs": [],
   "source": [
    "import numpy as np\n",
    "from sklearn.model_selection import train_test_split\n",
    "from sklearn.svm import SVC"
   ]
  },
  {
   "cell_type": "code",
   "execution_count": null,
   "metadata": {},
   "outputs": [],
   "source": [
    "# Classes correspond to:\n",
    "# 0: Red Manatee\n",
    "# 1: Green Manatee\n",
    "# 2: Black Board\n",
    "# 3: White Board\n",
    "# 4: Blue Dock Pond\n",
    "\n",
    "# Import data from csv file into numpy array\n",
    "data = np.genfromtxt('data.csv', delimiter=',')\n",
    "\n",
    "# Split data into features and labels\n",
    "X = data[:, 0:3]\n",
    "y = data[:, 3]\n",
    "\n",
    "# Divide all features by 800 to normalize\n",
    "X = X / 800\n",
    "\n",
    "# Collect one random example to form test set\n",
    "X_train, X_test, y_train, y_test = train_test_split(X, y, test_size=1)\n"
   ]
  },
  {
   "cell_type": "code",
   "execution_count": null,
   "metadata": {},
   "outputs": [],
   "source": [
    "# Create SVM classifier\n",
    "clf = SVC(kernel='linear', C=1)\n",
    "clf.fit(X, y)"
   ]
  },
  {
   "cell_type": "code",
   "execution_count": null,
   "metadata": {},
   "outputs": [],
   "source": [
    "# Evaluate classifier on test set\n",
    "print(\"Accuracy: \", clf.score(X_test, y_test))"
   ]
  }
 ],
 "metadata": {
  "kernelspec": {
   "display_name": "base",
   "language": "python",
   "name": "python3"
  },
  "language_info": {
   "name": "python",
   "version": "3.9.13"
  },
  "orig_nbformat": 4
 },
 "nbformat": 4,
 "nbformat_minor": 2
}
